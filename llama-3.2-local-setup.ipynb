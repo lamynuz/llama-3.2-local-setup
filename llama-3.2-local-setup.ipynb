{
 "cells": [
  {
   "cell_type": "markdown",
   "id": "991368da",
   "metadata": {},
   "source": [
    "# Simple Run Llama 3.2 1B Instruct GGUF locally\n",
    "\n",
    "This repository provides a straightforward example demonstrating how to run the Meta Llama 3.2 model locally in your computer using the package llama-cpp-python\n",
    "\n",
    "Download the model Llama-3.2-1B-Instruct-Q2_K.gguf from\n",
    "\n",
    "https://huggingface.co/second-state/Llama-3.2-1B-Instruct-GGUF\n",
    "\n",
    "The model is the smallest suitable for an Apple M1 with 8GB RAM."
   ]
  },
  {
   "cell_type": "code",
   "execution_count": null,
   "id": "ab297d60",
   "metadata": {},
   "outputs": [],
   "source": [
    "!pip install llama-cpp-python"
   ]
  },
  {
   "cell_type": "code",
   "execution_count": 31,
   "id": "674b5469",
   "metadata": {},
   "outputs": [],
   "source": [
    "model_path=\"/Users/macbookpro/Documents/vs/llama/Llama-3.2-3B-Instruct-Q2_K.gguf\""
   ]
  },
  {
   "cell_type": "code",
   "execution_count": null,
   "id": "1c6d45e6",
   "metadata": {},
   "outputs": [],
   "source": [
    "from llama_cpp import Llama\n",
    "\n",
    "lcpp_llm = Llama(\n",
    "    model_path = model_path,\n",
    "    n_threads=4\n",
    ")"
   ]
  },
  {
   "cell_type": "code",
   "execution_count": null,
   "id": "ca510c08",
   "metadata": {},
   "outputs": [],
   "source": [
    "prompt = \"Give me only one answer. What is the capital of Netherlands?\"\n",
    "response = lcpp_llm(prompt=prompt, max_tokens=100, echo=True, temperature=0.3, top_p=0.95, repeat_penalty=1.2)"
   ]
  },
  {
   "cell_type": "code",
   "execution_count": 38,
   "id": "bfdde1e2",
   "metadata": {},
   "outputs": [
    {
     "name": "stdout",
     "output_type": "stream",
     "text": [
      "Give me only one answer. What is the capital of Netherlands? \n",
      "The answer is: Amsterdam.\n"
     ]
    }
   ],
   "source": [
    "print(response[\"choices\"][0][\"text\"])"
   ]
  },
  {
   "cell_type": "code",
   "execution_count": null,
   "id": "7919ff6e",
   "metadata": {},
   "outputs": [],
   "source": []
  },
  {
   "cell_type": "code",
   "execution_count": null,
   "id": "7cc9d15f",
   "metadata": {},
   "outputs": [],
   "source": []
  }
 ],
 "metadata": {
  "kernelspec": {
   "display_name": "24-Llama",
   "language": "python",
   "name": "python3"
  },
  "language_info": {
   "codemirror_mode": {
    "name": "ipython",
    "version": 3
   },
   "file_extension": ".py",
   "mimetype": "text/x-python",
   "name": "python",
   "nbconvert_exporter": "python",
   "pygments_lexer": "ipython3",
   "version": "3.10.15"
  }
 },
 "nbformat": 4,
 "nbformat_minor": 5
}
